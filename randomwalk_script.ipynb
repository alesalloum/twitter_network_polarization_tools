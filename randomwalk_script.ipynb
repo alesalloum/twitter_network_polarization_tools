{
 "cells": [
  {
   "cell_type": "code",
   "execution_count": 1,
   "metadata": {},
   "outputs": [],
   "source": [
    "import networkx as nx\n",
    "import numpy as np\n",
    "import random\n",
    "import matplotlib.pyplot as plt"
   ]
  },
  {
   "cell_type": "code",
   "execution_count": 2,
   "metadata": {},
   "outputs": [],
   "source": [
    "def visualize_RWC(scores):\n",
    "    \n",
    "    #Binning\n",
    "    weights = np.ones_like(scores)/float(len(scores))\n",
    "    \n",
    "    #Plotting\n",
    "    fig, ax = plt.subplots(1,1)\n",
    "    \n",
    "    ax.hist(scores, weights = weights, bins = 20, color = \"coral\")\n",
    "    ax.text(0.5, 1.05, \"#\" + ht, ha='center', va='center', transform=ax.transAxes)\n",
    "    ax.text(0.85, 0.8, \"μ = \" + str(round(np.mean(scores), 2)), ha='center', va='center', transform=ax.transAxes)\n",
    "    ax.text(0.85, 0.7, \"σ = \" + str(round(np.std(scores), 2)), ha='center', va='center', transform=ax.transAxes)\n",
    "    \n",
    "    #Save the figure\n",
    "    fig.savefig(\"rwc_plots/\" + ht + \".png\", dpi=200)"
   ]
  },
  {
   "cell_type": "code",
   "execution_count": 3,
   "metadata": {},
   "outputs": [],
   "source": [
    "def performRandomWalk(G, starting_node, li, ri):\n",
    "\n",
    "    # Bunch of constants\n",
    "    found = 0\n",
    "    end_side = 0\n",
    "    \n",
    "    which_random_starting_node = starting_node\n",
    "    \n",
    "    while (found != 1):\n",
    "        \n",
    "        neighbors = list(G.neighbors(which_random_starting_node))\n",
    "        next_node = random.choice(neighbors)\n",
    "        \n",
    "        if (next_node in li):\n",
    "            end_side = \"left\"\n",
    "            found = 1\n",
    "            \n",
    "        elif (next_node in ri):\n",
    "            end_side = \"right\"\n",
    "            found = 1\n",
    "            \n",
    "        else:\n",
    "            which_random_starting_node = next_node\n",
    "        \n",
    "    return end_side"
   ]
  },
  {
   "cell_type": "code",
   "execution_count": 4,
   "metadata": {},
   "outputs": [],
   "source": [
    "def simulation():\n",
    "    \n",
    "    left_left = 0\n",
    "    left_right = 0\n",
    "    right_right = 0\n",
    "    right_left = 0\n",
    "\n",
    "    for _ in range(1000):\n",
    "\n",
    "        starting_side = random.choice([\"left\", \"right\"])\n",
    "\n",
    "        if starting_side == \"left\":\n",
    "            which_random_starting_node = random.choice(left_partition_users)\n",
    "\n",
    "        else:\n",
    "            which_random_starting_node = random.choice(right_partition_users)\n",
    "\n",
    "        end_side = performRandomWalk(G, which_random_starting_node, left_influencers, right_influencers)\n",
    "\n",
    "        if (starting_side == \"left\") and (end_side ==  \"left\"):\n",
    "            left_left += 1\n",
    "\n",
    "        elif (starting_side == \"left\") and (end_side ==  \"right\"):\n",
    "            left_right += 1\n",
    "\n",
    "        elif (starting_side == \"right\") and (end_side ==  \"right\"):\n",
    "            right_right += 1\n",
    "\n",
    "        elif (starting_side == \"right\") and (end_side ==  \"left\"):\n",
    "            right_left += 1\n",
    "\n",
    "        else:\n",
    "            print(\"Oops!\")\n",
    "        \n",
    "    e1 = (left_left)/(left_left+right_left)\n",
    "    e2 = (left_right)/(left_right+right_right)\n",
    "    e3 = (right_left)/(left_left+right_left)\n",
    "    e4 = (right_right)/(left_right+right_right)\n",
    "    \n",
    "    return(e1*e4 - e2*e3)"
   ]
  },
  {
   "cell_type": "code",
   "execution_count": 5,
   "metadata": {},
   "outputs": [],
   "source": [
    "# The only variable of this script is the hashtag you want to study. Then you can the whole notebook.\n",
    "ht = \"kokoomus\""
   ]
  },
  {
   "cell_type": "code",
   "execution_count": 6,
   "metadata": {},
   "outputs": [
    {
     "name": "stdout",
     "output_type": "stream",
     "text": [
      "Name: \n",
      "Type: Graph\n",
      "Number of nodes: 3044\n",
      "Number of edges: 7975\n",
      "Average degree:   5.2398\n"
     ]
    }
   ],
   "source": [
    "G = nx.read_gml(ht + \"/\" + ht +\"_retweet_network_giant.gml\")\n",
    "print(nx.info(G))"
   ]
  },
  {
   "cell_type": "code",
   "execution_count": 7,
   "metadata": {},
   "outputs": [],
   "source": [
    "left_partition_users, right_partition_users = [], []"
   ]
  },
  {
   "cell_type": "code",
   "execution_count": 8,
   "metadata": {},
   "outputs": [],
   "source": [
    "with open(ht + \"/\" + ht + \"_community1.txt\") as f1:\n",
    "    lines = f1.readlines()\n",
    "\n",
    "for line in lines:\n",
    "    line = line.strip()\n",
    "    left_partition_users.append(line)"
   ]
  },
  {
   "cell_type": "code",
   "execution_count": 9,
   "metadata": {},
   "outputs": [],
   "source": [
    "with open(ht + \"/\" + ht + \"_community2.txt\") as f2:\n",
    "    lines = f2.readlines()\n",
    "\n",
    "for line in lines:\n",
    "    line = line.strip()\n",
    "    right_partition_users.append(line)"
   ]
  },
  {
   "cell_type": "code",
   "execution_count": 10,
   "metadata": {},
   "outputs": [
    {
     "name": "stdout",
     "output_type": "stream",
     "text": [
      "Size of community 1 or left:  1844\n",
      "Size of community 2 or right:  1200\n"
     ]
    }
   ],
   "source": [
    "print(\"Size of community 1 or left: \", len(left_partition_users))\n",
    "print(\"Size of community 2 or right: \", len(right_partition_users))"
   ]
  },
  {
   "cell_type": "code",
   "execution_count": 11,
   "metadata": {},
   "outputs": [],
   "source": [
    "dict_degree = {}\n",
    "for node in G.nodes():\n",
    "    dict_degree[node] = G.degree(node)\n",
    "\n",
    "sorted_dict_degree = sorted(dict_degree.items(), key=lambda kv: kv[1], reverse=True)"
   ]
  },
  {
   "cell_type": "code",
   "execution_count": 12,
   "metadata": {},
   "outputs": [],
   "source": [
    "left_influencers, right_influencers = [], []\n",
    "k = 8"
   ]
  },
  {
   "cell_type": "code",
   "execution_count": 13,
   "metadata": {},
   "outputs": [],
   "source": [
    "count_left, count_right = 0, 0\n",
    "\n",
    "for node in sorted_dict_degree:\n",
    "    \n",
    "    if (node[0] in left_partition_users):\n",
    "        \n",
    "        if (count_left < k):\n",
    "            left_influencers.append(node[0])\n",
    "            count_left += 1\n",
    "    else:\n",
    "        \n",
    "        if (count_right < k):\n",
    "            right_influencers.append(node[0])\n",
    "            count_right += 1"
   ]
  },
  {
   "cell_type": "code",
   "execution_count": 14,
   "metadata": {},
   "outputs": [
    {
     "name": "stdout",
     "output_type": "stream",
     "text": [
      "Polarization score:  0.765224320958409\n"
     ]
    }
   ],
   "source": [
    "rwc_scores = []\n",
    "\n",
    "for _ in range(1000):\n",
    "    rwc_scores.append(simulation())\n",
    "    \n",
    "print(\"Polarization score: \", np.mean(rwc_scores))"
   ]
  },
  {
   "cell_type": "code",
   "execution_count": 15,
   "metadata": {},
   "outputs": [],
   "source": [
    "visualize_RWC(rwc_scores)"
   ]
  }
 ],
 "metadata": {
  "kernelspec": {
   "display_name": "Python 3",
   "language": "python",
   "name": "python3"
  },
  "language_info": {
   "codemirror_mode": {
    "name": "ipython",
    "version": 3
   },
   "file_extension": ".py",
   "mimetype": "text/x-python",
   "name": "python",
   "nbconvert_exporter": "python",
   "pygments_lexer": "ipython3",
   "version": "3.7.4"
  }
 },
 "nbformat": 4,
 "nbformat_minor": 2
}
