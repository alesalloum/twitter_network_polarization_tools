{
 "cells": [
  {
   "cell_type": "code",
   "execution_count": 16,
   "metadata": {},
   "outputs": [],
   "source": [
    "import networkx as nx"
   ]
  },
  {
   "cell_type": "code",
   "execution_count": 21,
   "metadata": {},
   "outputs": [],
   "source": [
    "def write_the_communities(comlabels, ht):\n",
    "    \n",
    "    community1, community2 = [], []\n",
    "\n",
    "    for key in comlabels:\n",
    "\n",
    "        if comlabels[key] == \"0\":\n",
    "            community1.append(key)\n",
    "        else:\n",
    "            community2.append(key)\n",
    "    \n",
    "    with open(ht+\"/\"+ht+\"_community1.txt\", 'w') as f:\n",
    "        for item in community1:\n",
    "            f.write(\"%s\\n\" % item)\n",
    "            \n",
    "    with open(ht+\"/\"+ht+\"_community2.txt\", 'w') as f:\n",
    "        for item in community2:\n",
    "            f.write(\"%s\\n\" % item)\n",
    "            \n",
    "    return 1"
   ]
  },
  {
   "cell_type": "code",
   "execution_count": 12,
   "metadata": {},
   "outputs": [],
   "source": [
    "ht = \"ilmastonmuutos\"\n",
    "\n",
    "with open(ht+\"/\"+ht + \"_com_modern.txt\") as f:\n",
    "    content = f.readlines()\n",
    "\n",
    "content = [x.strip() for x in content] \n",
    "splitted_content = [x.split(\",\") for x in content]\n",
    "com_structure = [[sub[1], sub[4]] for sub in splitted_content][1:]\n",
    "community_dict = dict(com_structure)\n",
    "\n",
    "#if write_the_communities(community_dict, ht):\n",
    "#    print(ht + \" communities succesfully written.\")"
   ]
  },
  {
   "cell_type": "code",
   "execution_count": 13,
   "metadata": {},
   "outputs": [],
   "source": [
    "allowed = {\"0\", \"1\"}\n",
    "\n",
    "for key in community_dict:\n",
    "    if community_dict[key] not in allowed:\n",
    "        community_dict[key] = \"1\"\n",
    "    else:\n",
    "        continue"
   ]
  },
  {
   "cell_type": "code",
   "execution_count": 22,
   "metadata": {},
   "outputs": [
    {
     "name": "stdout",
     "output_type": "stream",
     "text": [
      "ilmastonmuutos communities succesfully written.\n"
     ]
    }
   ],
   "source": [
    "if write_the_communities(community_dict, ht):\n",
    "    print(ht + \" communities succesfully written.\")"
   ]
  },
  {
   "cell_type": "code",
   "execution_count": 17,
   "metadata": {},
   "outputs": [],
   "source": [
    "G = nx.read_gml(\"ilmastonmuutos/ilmastonmuutos_retweet_network_giant.gml\")"
   ]
  },
  {
   "cell_type": "code",
   "execution_count": 18,
   "metadata": {},
   "outputs": [],
   "source": [
    "nx.set_node_attributes(G, community_dict, \"community\")"
   ]
  },
  {
   "cell_type": "code",
   "execution_count": 19,
   "metadata": {},
   "outputs": [],
   "source": [
    "nx.write_gml(G, \"ilmastonmuutos_modern.gml\")"
   ]
  }
 ],
 "metadata": {
  "kernelspec": {
   "display_name": "Python 3",
   "language": "python",
   "name": "python3"
  },
  "language_info": {
   "codemirror_mode": {
    "name": "ipython",
    "version": 3
   },
   "file_extension": ".py",
   "mimetype": "text/x-python",
   "name": "python",
   "nbconvert_exporter": "python",
   "pygments_lexer": "ipython3",
   "version": "3.7.4"
  }
 },
 "nbformat": 4,
 "nbformat_minor": 2
}
