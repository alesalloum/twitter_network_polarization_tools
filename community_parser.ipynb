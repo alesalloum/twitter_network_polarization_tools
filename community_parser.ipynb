{
 "cells": [
  {
   "cell_type": "code",
   "execution_count": 1,
   "metadata": {},
   "outputs": [],
   "source": [
    "def write_the_communities(comlabels, ht):\n",
    "    \n",
    "    community1, community2 = [], []\n",
    "\n",
    "    for key in comlabels:\n",
    "\n",
    "        if comlabels[key] == \"0\":\n",
    "            community1.append(key)\n",
    "        else:\n",
    "            community2.append(key)\n",
    "    \n",
    "    with open(ht+\"/\"+ht+\"_community1.txt\", 'w') as f:\n",
    "        for item in community1:\n",
    "            f.write(\"%s\\n\" % item)\n",
    "            \n",
    "    with open(ht+\"/\"+ht+\"_community2.txt\", 'w') as f:\n",
    "        for item in community2:\n",
    "            f.write(\"%s\\n\" % item)\n",
    "            \n",
    "    return 1"
   ]
  },
  {
   "cell_type": "code",
   "execution_count": 2,
   "metadata": {},
   "outputs": [
    {
     "name": "stdout",
     "output_type": "stream",
     "text": [
      "ilmastonmuutos communities succesfully written.\n"
     ]
    }
   ],
   "source": [
    "#ht_list = [\"perussuomalaiset\", \"jotainrajaa\", \"kokoomus\", \"maahanmuutto\", \"sote\", \"vihreät\"]\n",
    "ht_list = [\"ilmastonmuutos\"] #this hashtag has a special format\n",
    "\n",
    "for ht in ht_list:\n",
    "    \n",
    "    with open(ht+\"/\"+ht + \"_com.txt\") as f:\n",
    "        content = f.readlines()\n",
    "\n",
    "    content = [x.strip() for x in content] \n",
    "    splitted_content = [x.split(\",\") for x in content]\n",
    "    com_structure = [[sub[1], sub[3]] for sub in splitted_content][1:]\n",
    "    community_dict = dict(com_structure)\n",
    "    \n",
    "    if write_the_communities(community_dict, ht):\n",
    "        print(ht + \" communities succesfully written.\")"
   ]
  }
 ],
 "metadata": {
  "kernelspec": {
   "display_name": "Python 3",
   "language": "python",
   "name": "python3"
  },
  "language_info": {
   "codemirror_mode": {
    "name": "ipython",
    "version": 3
   },
   "file_extension": ".py",
   "mimetype": "text/x-python",
   "name": "python",
   "nbconvert_exporter": "python",
   "pygments_lexer": "ipython3",
   "version": "3.7.4"
  }
 },
 "nbformat": 4,
 "nbformat_minor": 2
}
