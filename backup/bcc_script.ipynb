{
 "cells": [
  {
   "cell_type": "code",
   "execution_count": 10,
   "metadata": {},
   "outputs": [],
   "source": [
    "import networkx as nx\n",
    "from random import choices\n",
    "from scipy import stats\n",
    "import numpy as np\n",
    "import matplotlib.pyplot as plt"
   ]
  },
  {
   "cell_type": "code",
   "execution_count": null,
   "metadata": {},
   "outputs": [],
   "source": [
    "def kernel_density_estimation(cut, rest):\n",
    "\n",
    "    cut_min_v = np.min(cut)\n",
    "    cut_max_v = np.max(cut)\n",
    "    cut_axis = np.linspace(cut_min_v, cut_max_v, 10000)\n",
    "    \n",
    "    rest_min_v = np.min(rest)\n",
    "    rest_max_v = np.max(rest)\n",
    "    rest_axis = np.linspace(rest_min_v, rest_max_v, 10000)\n",
    "    \n",
    "    kernel_for_cut = stats.gaussian_kde(cut, \"silverman\")\n",
    "    kernel_for_rest = stats.gaussian_kde(rest, \"silverman\")\n",
    "    \n",
    "    cut_est_dist = kernel_for_cut.evaluate(cut_axis)\n",
    "    rest_est_dist = kernel_for_rest.evaluate(rest_axis)\n",
    "    \n",
    "    return cut_est_dist, rest_est_dist"
   ]
  },
  {
   "cell_type": "code",
   "execution_count": 2,
   "metadata": {},
   "outputs": [],
   "source": [
    "def BCC_score(G, dict_ebs, left_users, right_users):\n",
    "    \n",
    "    cut_ebs, rest_ebs = [], []\n",
    "    BCC_estimates = []\n",
    "    \n",
    "    for n1 in left_users:\n",
    "        for n2 in right_users:\n",
    "            \n",
    "            if G.has_edge(n1, n2):\n",
    "                \n",
    "                if ((n1, n2) in dict_ebs):\n",
    "                    cut_ebs.append(dict_ebs[(n1, n2)])\n",
    "                    #del dict_ebs[(n1, n2)]\n",
    "                    \n",
    "                else:\n",
    "                    cut_ebs.append(dict_ebs[(n2, n1)])\n",
    "                    #del dict_ebs[(n2, n1)]      \n",
    "                    \n",
    "    rest_ebs = list(dict_ebs.values())\n",
    "    \n",
    "    #cut_dist_kde, rest_dist_kde = kernel_density_estimation(cut_ebs, rest_ebs)\n",
    "    #print(stats.entropy(rest_dist_kde, cut_dist_kde))\n",
    "\n",
    "    # Let us sample from the distributions\n",
    "    \n",
    "    for _ in range(1000):\n",
    "        #cut_dist = choices(cut_dist_kde, k=10000)\n",
    "        #rest_dist = choices(rest_dist_kde, k=10000)\n",
    "        \n",
    "        cut_dist = choices(cut_ebs, k=10000)\n",
    "        rest_dist = choices(rest_ebs, k=10000)\n",
    "\n",
    "        kl_divergence = stats.entropy(rest_dist, cut_dist)\n",
    "        BCC = 1-2.71828**(-kl_divergence)\n",
    "        BCC_estimates.append(BCC)\n",
    "                \n",
    "    return BCC_estimates"
   ]
  },
  {
   "cell_type": "code",
   "execution_count": 3,
   "metadata": {},
   "outputs": [],
   "source": [
    "def visualize_BCC(scores):\n",
    "    \n",
    "    #Binning\n",
    "    weights = np.ones_like(scores)/float(len(scores))\n",
    "    \n",
    "    #Plotting\n",
    "    fig, ax = plt.subplots(1,1)\n",
    "    \n",
    "    ax.hist(scores, weights = weights, bins = 20, color = \"coral\")\n",
    "    ax.text(0.5, 1.05, \"#\" + ht, ha='center', va='center', transform=ax.transAxes)\n",
    "    ax.text(0.85, 0.8, \"μ = \" + str(round(np.mean(scores), 2)), ha='center', va='center', transform=ax.transAxes)\n",
    "    ax.text(0.85, 0.7, \"σ = \" + str(round(np.std(scores), 2)), ha='center', va='center', transform=ax.transAxes)\n",
    "    \n",
    "    #Save the figure\n",
    "    fig.savefig(\"bcc_plots/\" + ht + \".png\", dpi=200, bbox_inches='tight')"
   ]
  },
  {
   "cell_type": "code",
   "execution_count": 6,
   "metadata": {},
   "outputs": [],
   "source": [
    "ht_list = [\"jotainrajaa\", \"maahanmuutto\", \"sote\", \"ilmastonmuutos\", \"vihreät\", \"perussuomalaiset\", \"kokoomus\"]"
   ]
  },
  {
   "cell_type": "code",
   "execution_count": 11,
   "metadata": {},
   "outputs": [
    {
     "name": "stdout",
     "output_type": "stream",
     "text": [
      "Name: \n",
      "Type: Graph\n",
      "Number of nodes: 749\n",
      "Number of edges: 2091\n",
      "Average degree:   5.5834\n",
      "For jotainrajaa the average bcc was.  0.6392329584633396\n",
      "jotainrajaa is completed.\n",
      "Name: \n",
      "Type: Graph\n",
      "Number of nodes: 1686\n",
      "Number of edges: 3457\n",
      "Average degree:   4.1008\n",
      "For maahanmuutto the average bcc was.  0.7723302150121194\n",
      "maahanmuutto is completed.\n",
      "Name: \n",
      "Type: Graph\n",
      "Number of nodes: 7792\n",
      "Number of edges: 20919\n",
      "Average degree:   5.3694\n",
      "For sote the average bcc was.  0.606718568207821\n",
      "sote is completed.\n",
      "Name: \n",
      "Type: Graph\n",
      "Number of nodes: 15699\n",
      "Number of edges: 51558\n",
      "Average degree:   6.5683\n",
      "For ilmastonmuutos the average bcc was.  0.7064605771569618\n",
      "ilmastonmuutos is completed.\n",
      "Name: \n",
      "Type: Graph\n",
      "Number of nodes: 2277\n",
      "Number of edges: 4798\n",
      "Average degree:   4.2143\n",
      "For vihreät the average bcc was.  0.7103550367479506\n",
      "vihreät is completed.\n",
      "Name: \n",
      "Type: Graph\n",
      "Number of nodes: 1162\n",
      "Number of edges: 2910\n",
      "Average degree:   5.0086\n",
      "For perussuomalaiset the average bcc was.  0.8472621315412899\n",
      "perussuomalaiset is completed.\n",
      "Name: \n",
      "Type: Graph\n",
      "Number of nodes: 3044\n",
      "Number of edges: 7975\n",
      "Average degree:   5.2398\n",
      "For kokoomus the average bcc was.  0.7082443769889121\n",
      "kokoomus is completed.\n"
     ]
    },
    {
     "data": {
      "image/png": "[encoded data removed]",
      "text/plain": [
       "<Figure size 432x288 with 1 Axes>"
      ]
     },
     "metadata": {
      "needs_background": "light"
     },
     "output_type": "display_data"
    },
    {
     "data": {
      "image/png": "[encoded data removed]",
      "text/plain": [
       "<Figure size 432x288 with 1 Axes>"
      ]
     },
     "metadata": {
      "needs_background": "light"
     },
     "output_type": "display_data"
    },
    {
     "data": {
      "image/png": "[encoded data removed]",
      "text/plain": [
       "<Figure size 432x288 with 1 Axes>"
      ]
     },
     "metadata": {
      "needs_background": "light"
     },
     "output_type": "display_data"
    },
    {
     "data": {
      "image/png": "[encoded data removed]",
      "text/plain": [
       "<Figure size 432x288 with 1 Axes>"
      ]
     },
     "metadata": {
      "needs_background": "light"
     },
     "output_type": "display_data"
    },
    {
     "data": {
      "image/png": "[encoded data removed]",
      "text/plain": [
       "<Figure size 432x288 with 1 Axes>"
      ]
     },
     "metadata": {
      "needs_background": "light"
     },
     "output_type": "display_data"
    },
    {
     "data": {
      "image/png": "[encoded data removed]",
      "text/plain": [
       "<Figure size 432x288 with 1 Axes>"
      ]
     },
     "metadata": {
      "needs_background": "light"
     },
     "output_type": "display_data"
    },
    {
     "data": {
      "image/png": "[encoded data removed]",
      "text/plain": [
       "<Figure size 432x288 with 1 Axes>"
      ]
     },
     "metadata": {
      "needs_background": "light"
     },
     "output_type": "display_data"
    }
   ],
   "source": [
    "for ht in ht_list:\n",
    "    \n",
    "    G = nx.read_gml(ht + \"/\" + ht +\"_retweet_network_giant.gml\")\n",
    "    print(nx.info(G))\n",
    "\n",
    "    left_partition_users, right_partition_users = [], []\n",
    "\n",
    "    with open(ht + \"/\" + ht + \"_community1.txt\") as f1:\n",
    "        lines = f1.readlines()\n",
    "\n",
    "    for line in lines:\n",
    "        line = line.strip()\n",
    "        left_partition_users.append(line)\n",
    "\n",
    "\n",
    "    with open(ht + \"/\" + ht + \"_community2.txt\") as f2:\n",
    "        lines = f2.readlines()\n",
    "\n",
    "    for line in lines:\n",
    "        line = line.strip()\n",
    "        right_partition_users.append(line)\n",
    "    \n",
    "    dict_edgebetweenness = nx.edge_betweenness_centrality(G)\n",
    "    bcc_scores = BCC_score(G, dict_edgebetweenness, left_partition_users, right_partition_users)\n",
    "    print(\"For \"+ht+\" the average bcc was. \", np.mean(bcc_scores))\n",
    "    visualize_BCC(bcc_scores)\n",
    "    print(ht + \" is completed.\")"
   ]
  },
  {
   "cell_type": "code",
   "execution_count": null,
   "metadata": {},
   "outputs": [],
   "source": [
    "########## THE SCRIPT ENDS HERE ############"
   ]
  },
  {
   "cell_type": "code",
   "execution_count": null,
   "metadata": {},
   "outputs": [],
   "source": [
    "# Select the hashtag\n",
    "ht = \"maahanmuutto\""
   ]
  },
  {
   "cell_type": "code",
   "execution_count": null,
   "metadata": {},
   "outputs": [],
   "source": [
    "G = nx.read_gml(ht + \"/\" + ht +\"_retweet_network_giant.gml\")\n",
    "print(nx.info(G))\n",
    "\n",
    "left_partition_users, right_partition_users = [], []\n",
    "\n",
    "with open(ht + \"/\" + ht + \"_community1.txt\") as f1:\n",
    "    lines = f1.readlines()\n",
    "\n",
    "for line in lines:\n",
    "    line = line.strip()\n",
    "    left_partition_users.append(line)\n",
    "    \n",
    "\n",
    "with open(ht + \"/\" + ht + \"_community2.txt\") as f2:\n",
    "    lines = f2.readlines()\n",
    "\n",
    "for line in lines:\n",
    "    line = line.strip()\n",
    "    right_partition_users.append(line)"
   ]
  },
  {
   "cell_type": "code",
   "execution_count": null,
   "metadata": {},
   "outputs": [],
   "source": [
    "dict_edgebetweenness = nx.edge_betweenness_centrality(G)"
   ]
  },
  {
   "cell_type": "code",
   "execution_count": null,
   "metadata": {},
   "outputs": [],
   "source": [
    "bcc_scores = BCC_score(G, dict_edgebetweenness, left_partition_users, right_partition_users)\n",
    "print(\"For \"+ht+\" the average bcc was. \", np.mean(bcc_scores))"
   ]
  },
  {
   "cell_type": "code",
   "execution_count": null,
   "metadata": {},
   "outputs": [],
   "source": [
    "visualize_BCC(bcc_scores)"
   ]
  }
 ],
 "metadata": {
  "kernelspec": {
   "display_name": "Python 3",
   "language": "python",
   "name": "python3"
  },
  "language_info": {
   "codemirror_mode": {
    "name": "ipython",
    "version": 3
   },
   "file_extension": ".py",
   "mimetype": "text/x-python",
   "name": "python",
   "nbconvert_exporter": "python",
   "pygments_lexer": "ipython3",
   "version": "3.7.4"
  }
 },
 "nbformat": 4,
 "nbformat_minor": 2
}
